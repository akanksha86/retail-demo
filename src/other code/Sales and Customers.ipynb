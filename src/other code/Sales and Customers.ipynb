{
 "cells": [
  {
   "cell_type": "code",
   "execution_count": null,
   "metadata": {
    "collapsed": false,
    "id": "6AhkAmEovqE2"
   },
   "outputs": [],
   "source": [
    "# @title Inspect the schema of esdemo-389207.retail_data.customers\n",
    "from google.cloud import bigquery\n",
    "\n",
    "# Construct a BigQuery client object.\n",
    "client = bigquery.Client()\n",
    "\n",
    "# Fetch the table\n",
    "table = client.get_table('esdemo-389207.retail_data.customers')\n",
    "\n",
    "# View table info\n",
    "print(\"{} rows\".format(table.num_rows))\n",
    "for row in table.schema:\n",
    "  print(\"Column {}: {}\".format(row.name, row.field_type))\n"
   ]
  },
  {
   "cell_type": "code",
   "execution_count": null,
   "metadata": {
    "collapsed": false,
    "id": "EcuZvoj1vqE2"
   },
   "outputs": [],
   "source": [
    "# @title Setup bigquery client and formatting\n",
    "from google.cloud import bigquery\n",
    "from google.colab import data_table\n",
    "\n",
    "project = 'esdemo-389207' # Project ID\n",
    "client = bigquery.Client(project=project)\n",
    "data_table.enable_dataframe_formatter()\n",
    "# @title Executes the query, using client from previous cell\n",
    "sql_customer_country = '''# What are the distinct countries in the customer table?\n",
    "\n",
    "SELECT\n",
    "  DISTINCT country\n",
    "FROM\n",
    "  `esdemo-389207`.`retail_data`.`customers`;'''\n",
    "query_customer_country = client.query(sql_customer_country)\n",
    "\n",
    "# store the destination to reference in future cells\n",
    "query_destination_customer_country = query_customer_country.destination.project + '.' + query_customer_country.destination.dataset_id + '.' + query_customer_country.destination.table_id\n",
    "\n",
    "#  Render the query results\n",
    "job_customer_country= client.get_job(query_customer_country.job_id)\n",
    "df_customer_country = job_customer_country.to_dataframe()\n",
    "df_customer_country\n"
   ]
  },
  {
   "cell_type": "code",
   "execution_count": null,
   "metadata": {
    "collapsed": false,
    "id": "0GURmjVQvqE2"
   },
   "outputs": [],
   "source": [
    "# @title Inspect the schema of esdemo-389207.retail_data.orders_dp\n",
    "from google.cloud import bigquery\n",
    "\n",
    "# Construct a BigQuery client object.\n",
    "client = bigquery.Client()\n",
    "\n",
    "# Fetch the table\n",
    "table = client.get_table('esdemo-389207.retail_data.orders_dp')\n",
    "\n",
    "# View table info\n",
    "print(\"{} rows\".format(table.num_rows))\n",
    "for row in table.schema:\n",
    "  print(\"Column {}: {}\".format(row.name, row.field_type))\n"
   ]
  },
  {
   "cell_type": "code",
   "execution_count": null,
   "metadata": {
    "collapsed": false,
    "id": "m4kwsHgAvqE2"
   },
   "outputs": [],
   "source": [
    "\n",
    "# @title Executes the query, using client from previous cell\n",
    "sql_shipping_method_denmark = '''# What are the counts of shipping methods in Denmark?\n",
    "\n",
    "SELECT\n",
    "  shipping_method,\n",
    "  COUNT(*) AS count\n",
    "FROM\n",
    "  `esdemo-389207`.`retail_data`.`orders_dp` AS orders_dp\n",
    "INNER JOIN\n",
    "  `esdemo-389207`.`retail_data`.`customers` AS customers\n",
    "ON\n",
    "  orders_dp.customer_id = customers.customer_id\n",
    "WHERE\n",
    "  customers.country = 'Denmark'\n",
    "GROUP BY\n",
    "  shipping_method;'''\n",
    "query_shipping_method_denmark = client.query(sql_shipping_method_denmark)\n",
    "\n",
    "# store the destination to reference in future cells\n",
    "query_destination_shipping_method_denmark = query_shipping_method_denmark.destination.project + '.' + query_shipping_method_denmark.destination.dataset_id + '.' + query_shipping_method_denmark.destination.table_id\n",
    "\n",
    "#  Render the query results\n",
    "job_shipping_method_denmark= client.get_job(query_shipping_method_denmark.job_id)\n",
    "df_shipping_method_denmark = job_shipping_method_denmark.to_dataframe()\n",
    "df_shipping_method_denmark\n"
   ]
  },
  {
   "cell_type": "code",
   "execution_count": null,
   "metadata": {
    "collapsed": false,
    "id": "pr-B9t04vqE2"
   },
   "outputs": [],
   "source": [
    "# @title \n",
    "\n",
    "import altair as alt\n",
    "\n",
    "chart1 = alt.Chart(data=df1, mark={\n",
    "  \"type\": \"bar\",\n",
    "  \"tooltip\": True\n",
    "}).encode(\n",
    "  x={\n",
    "  \"field\": \"shipping_method\",\n",
    "  \"type\": \"nominal\",\n",
    "  \"title\": \"Shipping Method\",\n",
    "  \"axis\": {\n",
    "    \"labelOverlap\": True\n",
    "  },\n",
    "  \"sort\": {}\n",
    "},\n",
    "  y={\n",
    "  \"field\": \"count\",\n",
    "  \"type\": \"quantitative\",\n",
    "  \"title\": \"Count\",\n",
    "  \"axis\": {\n",
    "    \"labelOverlap\": True\n",
    "  },\n",
    "  \"sort\": {}\n",
    "},\n",
    "  \n",
    "  \n",
    ")\n",
    "chart1\n"
   ]
  },
  {
   "cell_type": "markdown",
   "metadata": {
    "collapsed": false,
    "id": "tO4RIGG2vqE2"
   },
   "source": [
    "* The preferred Shipping Method is Pickup Point, representing 27.23% of total shipments.\n",
    "\t* \n",
    "* Express Shipping is the least utilized method at 21.76% of total shipments.\n",
    "\t* \n",
    "* On average, each Shipping Method handles approximately 443.5 shipments.\n",
    "\t* "
   ]
  },
  {
   "cell_type": "code",
   "execution_count": null,
   "metadata": {
    "collapsed": false,
    "id": "6JhL_x9TvqE2"
   },
   "outputs": [],
   "source": [
    "\n",
    "# @title Executes the query, using client from previous cell\n",
    "sql_SQL = '''-- prompts:\n",
    "-- 1. Join these data sources\n",
    "-- 2. Sales per day including customer city and country, include payment method, shipping method, status and preferred payment method \n",
    "\n",
    "SELECT\n",
    "  customers.city,\n",
    "  customers.country,\n",
    "  orders_dp.order_date,\n",
    "  orders_dp.payment_method,\n",
    "  orders_dp.shipping_method,\n",
    "  orders_dp.status,\n",
    "  customers.preferred_payment_method,\n",
    "  SUM(orders_dp.total_amount) AS total_sales\n",
    "FROM\n",
    "  `esdemo-389207`.`retail_data`.`customers` AS customers\n",
    "INNER JOIN\n",
    "  `esdemo-389207`.`retail_data`.`orders_dp` AS orders_dp\n",
    "ON\n",
    "  customers.customer_id = orders_dp.customer_id\n",
    "GROUP BY\n",
    "  1,\n",
    "  2,\n",
    "  3,\n",
    "  4,\n",
    "  5,\n",
    "  6,\n",
    "  7;'''\n",
    "query_SQL = client.query(sql_SQL)\n",
    "\n",
    "# store the destination to reference in future cells\n",
    "query_destination_SQL = query_SQL.destination.project + '.' + query_SQL.destination.dataset_id + '.' + query_SQL.destination.table_id\n",
    "\n",
    "#  Render the query results\n",
    "job_SQL= client.get_job(query_SQL.job_id)\n",
    "df_SQL = job_SQL.to_dataframe()\n",
    "df_SQL\n"
   ]
  },
  {
   "cell_type": "code",
   "execution_count": null,
   "metadata": {
    "collapsed": false,
    "id": "AG-5_CHnvqE2"
   },
   "outputs": [],
   "source": [
    "# @title \n",
    "\n",
    "import altair as alt\n",
    "\n",
    "chart2 = alt.Chart(data=df2, mark={\n",
    "  \"type\": \"bar\",\n",
    "  \"tooltip\": True\n",
    "}).encode(\n",
    "  x={\n",
    "  \"field\": \"city\",\n",
    "  \"type\": \"nominal\",\n",
    "  \"title\": \"City\",\n",
    "  \"axis\": {\n",
    "    \"labelOverlap\": True\n",
    "  },\n",
    "  \"sort\": {}\n",
    "},\n",
    "  y={\n",
    "  \"field\": \"total_sales\",\n",
    "  \"type\": \"quantitative\",\n",
    "  \"title\": \"Total Sales\",\n",
    "  \"axis\": {\n",
    "    \"labelOverlap\": True\n",
    "  },\n",
    "  \"sort\": {}\n",
    "},\n",
    "  color={\n",
    "  \"field\": \"payment_method\",\n",
    "  \"type\": \"nominal\",\n",
    "  \"title\": \"Payment Method\"\n",
    "},\n",
    "  \n",
    ")\n",
    "chart2\n"
   ]
  },
  {
   "cell_type": "markdown",
   "metadata": {
    "collapsed": false,
    "id": "expubb41vqE2"
   },
   "source": [
    "* Uppsala accounts for the largest portion of total sales at 8.19%, with Reykjavik representing the smallest portion at only 0.19%.\n",
    "\t* \n",
    "* Debit cards represent the most popular payment method at 18.54% of total sales, while Vipps constitutes 15.45% of sales.\n",
    "\t* \n",
    "* Uppsala shows a strong preference for Vipps, with this payment method making up 21.3% of the city's sales.  This contrasts with the national trend where Debit Card is the leading payment method.\n",
    "\t* \n",
    "* Interestingly, while representing a small percentage of overall sales, Hafnarfjörður sees extremely low sales when using Debit Cards, suggesting a potential area for further investigation.\n",
    "\t* "
   ]
  }
 ],
 "metadata": {
  "kernelspec": {
   "display_name": "Python 3",
   "name": "python3"
  },
  "language_info": {
   "name": "python"
  }
 },
 "nbformat": 4,
 "nbformat_minor": 0
}
